{
 "cells": [
  {
   "cell_type": "markdown",
   "metadata": {
    "colab_type": "text",
    "id": "lP6JLo1tGNBg"
   },
   "source": [
    "# Artificial Neural Network"
   ]
  },
  {
   "cell_type": "markdown",
   "metadata": {
    "colab_type": "text",
    "id": "gWZyYmS_UE_L"
   },
   "source": [
    "### Importing the libraries"
   ]
  },
  {
   "cell_type": "code",
   "execution_count": 2,
   "metadata": {
    "colab": {},
    "colab_type": "code",
    "id": "MxkJoQBkUIHC"
   },
   "outputs": [],
   "source": [
    "import numpy as np\n",
    "import pandas as pd\n",
    "import tensorflow as tf"
   ]
  },
  {
   "cell_type": "code",
   "execution_count": 3,
   "metadata": {
    "colab": {
     "base_uri": "https://localhost:8080/",
     "height": 34
    },
    "colab_type": "code",
    "executionInfo": {
     "elapsed": 2787,
     "status": "ok",
     "timestamp": 1586428376540,
     "user": {
      "displayName": "Hadelin de Ponteves",
      "photoUrl": "https://lh3.googleusercontent.com/a-/AOh14GhEuXdT7eQweUmRPW8_laJuPggSK6hfvpl5a6WBaA=s64",
      "userId": "15047218817161520419"
     },
     "user_tz": -240
    },
    "id": "ZaTwK7ojXr2F",
    "outputId": "9991cc2b-cd5d-4e1e-c681-d32b9f4faa9a"
   },
   "outputs": [
    {
     "data": {
      "text/plain": [
       "'2.5.0-dev20201110'"
      ]
     },
     "execution_count": 3,
     "metadata": {},
     "output_type": "execute_result"
    }
   ],
   "source": [
    "tf.__version__"
   ]
  },
  {
   "cell_type": "markdown",
   "metadata": {
    "colab_type": "text",
    "id": "1E0Q3aoKUCRX"
   },
   "source": [
    "## Part 1 - Data Preprocessing"
   ]
  },
  {
   "cell_type": "markdown",
   "metadata": {
    "colab_type": "text",
    "id": "cKWAkFVGUU0Z"
   },
   "source": [
    "### Importing the dataset"
   ]
  },
  {
   "cell_type": "code",
   "execution_count": 4,
   "metadata": {
    "colab": {},
    "colab_type": "code",
    "id": "MXUkhkMfU4wq"
   },
   "outputs": [],
   "source": [
    "dataset = pd.read_csv('Churn_Modelling.csv')\n",
    "X = dataset.iloc[:, 3:-1].values\n",
    "y = dataset.iloc[:, -1].values"
   ]
  },
  {
   "cell_type": "code",
   "execution_count": 5,
   "metadata": {
    "colab": {
     "base_uri": "https://localhost:8080/",
     "height": 134
    },
    "colab_type": "code",
    "executionInfo": {
     "elapsed": 2782,
     "status": "ok",
     "timestamp": 1586428376541,
     "user": {
      "displayName": "Hadelin de Ponteves",
      "photoUrl": "https://lh3.googleusercontent.com/a-/AOh14GhEuXdT7eQweUmRPW8_laJuPggSK6hfvpl5a6WBaA=s64",
      "userId": "15047218817161520419"
     },
     "user_tz": -240
    },
    "id": "VYP9cQTWbzuI",
    "outputId": "38e3588f-f2e3-436b-bdc5-2967d495155c"
   },
   "outputs": [
    {
     "name": "stdout",
     "output_type": "stream",
     "text": [
      "[[619 'France' 'Female' ... 1 1 101348.88]\n",
      " [608 'Spain' 'Female' ... 0 1 112542.58]\n",
      " [502 'France' 'Female' ... 1 0 113931.57]\n",
      " ...\n",
      " [709 'France' 'Female' ... 0 1 42085.58]\n",
      " [772 'Germany' 'Male' ... 1 0 92888.52]\n",
      " [792 'France' 'Female' ... 1 0 38190.78]]\n"
     ]
    }
   ],
   "source": [
    "print(X)"
   ]
  },
  {
   "cell_type": "code",
   "execution_count": 6,
   "metadata": {
    "colab": {
     "base_uri": "https://localhost:8080/",
     "height": 34
    },
    "colab_type": "code",
    "executionInfo": {
     "elapsed": 2780,
     "status": "ok",
     "timestamp": 1586428376541,
     "user": {
      "displayName": "Hadelin de Ponteves",
      "photoUrl": "https://lh3.googleusercontent.com/a-/AOh14GhEuXdT7eQweUmRPW8_laJuPggSK6hfvpl5a6WBaA=s64",
      "userId": "15047218817161520419"
     },
     "user_tz": -240
    },
    "id": "38vKGE6Nb2RR",
    "outputId": "2abeb945-135e-460f-99e9-9967abe198d1"
   },
   "outputs": [
    {
     "name": "stdout",
     "output_type": "stream",
     "text": [
      "[1 0 1 ... 1 1 0]\n"
     ]
    }
   ],
   "source": [
    "print(y)"
   ]
  },
  {
   "cell_type": "markdown",
   "metadata": {
    "colab_type": "text",
    "id": "N6bQ0UgSU-NJ"
   },
   "source": [
    "### Encoding categorical data"
   ]
  },
  {
   "cell_type": "markdown",
   "metadata": {
    "colab_type": "text",
    "id": "le5MJreAbW52"
   },
   "source": [
    "Label Encoding the \"Gender\" column"
   ]
  },
  {
   "cell_type": "code",
   "execution_count": 7,
   "metadata": {
    "colab": {},
    "colab_type": "code",
    "id": "PxVKWXxLbczC"
   },
   "outputs": [],
   "source": [
    "from sklearn.preprocessing import LabelEncoder\n",
    "le = LabelEncoder()\n",
    "X[:, 2] = le.fit_transform(X[:, 2])"
   ]
  },
  {
   "cell_type": "code",
   "execution_count": 8,
   "metadata": {
    "colab": {
     "base_uri": "https://localhost:8080/",
     "height": 134
    },
    "colab_type": "code",
    "executionInfo": {
     "elapsed": 2775,
     "status": "ok",
     "timestamp": 1586428376542,
     "user": {
      "displayName": "Hadelin de Ponteves",
      "photoUrl": "https://lh3.googleusercontent.com/a-/AOh14GhEuXdT7eQweUmRPW8_laJuPggSK6hfvpl5a6WBaA=s64",
      "userId": "15047218817161520419"
     },
     "user_tz": -240
    },
    "id": "-M1KboxFb6OO",
    "outputId": "c7b742e2-7afb-4fb9-c6b4-ffeb3c4812f1"
   },
   "outputs": [
    {
     "name": "stdout",
     "output_type": "stream",
     "text": [
      "[[619 'France' 0 ... 1 1 101348.88]\n",
      " [608 'Spain' 0 ... 0 1 112542.58]\n",
      " [502 'France' 0 ... 1 0 113931.57]\n",
      " ...\n",
      " [709 'France' 0 ... 0 1 42085.58]\n",
      " [772 'Germany' 1 ... 1 0 92888.52]\n",
      " [792 'France' 0 ... 1 0 38190.78]]\n"
     ]
    }
   ],
   "source": [
    "print(X)"
   ]
  },
  {
   "cell_type": "markdown",
   "metadata": {
    "colab_type": "text",
    "id": "CUxGZezpbMcb"
   },
   "source": [
    "One Hot Encoding the \"Geography\" column"
   ]
  },
  {
   "cell_type": "code",
   "execution_count": 9,
   "metadata": {
    "colab": {},
    "colab_type": "code",
    "id": "AMXC8-KMVirw"
   },
   "outputs": [],
   "source": [
    "from sklearn.compose import ColumnTransformer\n",
    "from sklearn.preprocessing import OneHotEncoder\n",
    "ct = ColumnTransformer(transformers=[('encoder', OneHotEncoder(), [1])], remainder='passthrough')\n",
    "X = np.array(ct.fit_transform(X))"
   ]
  },
  {
   "cell_type": "code",
   "execution_count": 10,
   "metadata": {
    "colab": {
     "base_uri": "https://localhost:8080/",
     "height": 134
    },
    "colab_type": "code",
    "executionInfo": {
     "elapsed": 2768,
     "status": "ok",
     "timestamp": 1586428376543,
     "user": {
      "displayName": "Hadelin de Ponteves",
      "photoUrl": "https://lh3.googleusercontent.com/a-/AOh14GhEuXdT7eQweUmRPW8_laJuPggSK6hfvpl5a6WBaA=s64",
      "userId": "15047218817161520419"
     },
     "user_tz": -240
    },
    "id": "ZcxwEon-b8nV",
    "outputId": "9c88c069-f799-4e3b-be4b-24d8e17611fd"
   },
   "outputs": [
    {
     "name": "stdout",
     "output_type": "stream",
     "text": [
      "[[1.0 0.0 0.0 ... 1 1 101348.88]\n",
      " [0.0 0.0 1.0 ... 0 1 112542.58]\n",
      " [1.0 0.0 0.0 ... 1 0 113931.57]\n",
      " ...\n",
      " [1.0 0.0 0.0 ... 0 1 42085.58]\n",
      " [0.0 1.0 0.0 ... 1 0 92888.52]\n",
      " [1.0 0.0 0.0 ... 1 0 38190.78]]\n"
     ]
    }
   ],
   "source": [
    "print(X)"
   ]
  },
  {
   "cell_type": "markdown",
   "metadata": {
    "colab_type": "text",
    "id": "RE_FcHyfV3TQ"
   },
   "source": [
    "### Feature Scaling"
   ]
  },
  {
   "cell_type": "code",
   "execution_count": 11,
   "metadata": {
    "colab": {},
    "colab_type": "code",
    "id": "ViCrE00rV8Sk"
   },
   "outputs": [],
   "source": [
    "from sklearn.preprocessing import StandardScaler\n",
    "sc = StandardScaler()\n",
    "X = sc.fit_transform(X)"
   ]
  },
  {
   "cell_type": "code",
   "execution_count": 12,
   "metadata": {
    "colab": {
     "base_uri": "https://localhost:8080/",
     "height": 235
    },
    "colab_type": "code",
    "executionInfo": {
     "elapsed": 2760,
     "status": "ok",
     "timestamp": 1586428376544,
     "user": {
      "displayName": "Hadelin de Ponteves",
      "photoUrl": "https://lh3.googleusercontent.com/a-/AOh14GhEuXdT7eQweUmRPW8_laJuPggSK6hfvpl5a6WBaA=s64",
      "userId": "15047218817161520419"
     },
     "user_tz": -240
    },
    "id": "De3UsJwXdfMz",
    "outputId": "dde0e114-7250-42b5-d54d-047faebba5e1"
   },
   "outputs": [
    {
     "name": "stdout",
     "output_type": "stream",
     "text": [
      "[[ 0.99720391 -0.57873591 -0.57380915 ...  0.64609167  0.97024255\n",
      "   0.02188649]\n",
      " [-1.00280393 -0.57873591  1.74273971 ... -1.54776799  0.97024255\n",
      "   0.21653375]\n",
      " [ 0.99720391 -0.57873591 -0.57380915 ...  0.64609167 -1.03067011\n",
      "   0.2406869 ]\n",
      " ...\n",
      " [ 0.99720391 -0.57873591 -0.57380915 ... -1.54776799  0.97024255\n",
      "  -1.00864308]\n",
      " [-1.00280393  1.72790383 -0.57380915 ...  0.64609167 -1.03067011\n",
      "  -0.12523071]\n",
      " [ 0.99720391 -0.57873591 -0.57380915 ...  0.64609167 -1.03067011\n",
      "  -1.07636976]]\n"
     ]
    }
   ],
   "source": [
    "print(X)"
   ]
  },
  {
   "cell_type": "markdown",
   "metadata": {
    "colab_type": "text",
    "id": "vHol938cW8zd"
   },
   "source": [
    "### Splitting the dataset into the Training set and Test set"
   ]
  },
  {
   "cell_type": "code",
   "execution_count": 13,
   "metadata": {
    "colab": {},
    "colab_type": "code",
    "id": "Z-TDt0Y_XEfc"
   },
   "outputs": [],
   "source": [
    "from sklearn.model_selection import train_test_split\n",
    "X_train, X_test, y_train, y_test = train_test_split(X, y, test_size = 0.2, random_state = 0)"
   ]
  },
  {
   "cell_type": "markdown",
   "metadata": {
    "colab_type": "text",
    "id": "-zfEzkRVXIwF"
   },
   "source": [
    "## Part 2 - Building the ANN"
   ]
  },
  {
   "cell_type": "markdown",
   "metadata": {
    "colab_type": "text",
    "id": "KvdeScabXtlB"
   },
   "source": [
    "### Initializing the ANN"
   ]
  },
  {
   "cell_type": "code",
   "execution_count": 14,
   "metadata": {
    "colab": {},
    "colab_type": "code",
    "id": "3dtrScHxXQox"
   },
   "outputs": [],
   "source": [
    "ann = tf.keras.models.Sequential()"
   ]
  },
  {
   "cell_type": "markdown",
   "metadata": {
    "colab_type": "text",
    "id": "rP6urV6SX7kS"
   },
   "source": [
    "### Adding the input layer and the first hidden layer"
   ]
  },
  {
   "cell_type": "code",
   "execution_count": 15,
   "metadata": {
    "colab": {},
    "colab_type": "code",
    "id": "bppGycBXYCQr"
   },
   "outputs": [],
   "source": [
    "ann.add(tf.keras.layers.Dense(units=6, activation='relu'))"
   ]
  },
  {
   "cell_type": "markdown",
   "metadata": {
    "colab_type": "text",
    "id": "BELWAc_8YJze"
   },
   "source": [
    "### Adding the second hidden layer"
   ]
  },
  {
   "cell_type": "code",
   "execution_count": 16,
   "metadata": {
    "colab": {},
    "colab_type": "code",
    "id": "JneR0u0sYRTd"
   },
   "outputs": [],
   "source": [
    "ann.add(tf.keras.layers.Dense(units=6, activation='relu'))"
   ]
  },
  {
   "cell_type": "markdown",
   "metadata": {
    "colab_type": "text",
    "id": "OyNEe6RXYcU4"
   },
   "source": [
    "### Adding the output layer"
   ]
  },
  {
   "cell_type": "code",
   "execution_count": 17,
   "metadata": {
    "colab": {},
    "colab_type": "code",
    "id": "Cn3x41RBYfvY"
   },
   "outputs": [],
   "source": [
    "ann.add(tf.keras.layers.Dense(units=1, activation='sigmoid'))"
   ]
  },
  {
   "cell_type": "markdown",
   "metadata": {
    "colab_type": "text",
    "id": "JT4u2S1_Y4WG"
   },
   "source": [
    "## Training the ANN"
   ]
  },
  {
   "cell_type": "markdown",
   "metadata": {
    "colab_type": "text",
    "id": "8GWlJChhY_ZI"
   },
   "source": [
    "### Compiling the ANN"
   ]
  },
  {
   "cell_type": "code",
   "execution_count": 18,
   "metadata": {
    "colab": {},
    "colab_type": "code",
    "id": "fG3RrwDXZEaS"
   },
   "outputs": [],
   "source": [
    "ann.compile(optimizer = 'adam', loss = 'binary_crossentropy', metrics = ['accuracy'])"
   ]
  },
  {
   "cell_type": "markdown",
   "metadata": {
    "colab_type": "text",
    "id": "0QR_G5u7ZLSM"
   },
   "source": [
    "### Training the ANN on the Training set"
   ]
  },
  {
   "cell_type": "code",
   "execution_count": 19,
   "metadata": {
    "colab": {
     "base_uri": "https://localhost:8080/",
     "height": 1000
    },
    "colab_type": "code",
    "executionInfo": {
     "elapsed": 31750,
     "status": "ok",
     "timestamp": 1586428405580,
     "user": {
      "displayName": "Hadelin de Ponteves",
      "photoUrl": "https://lh3.googleusercontent.com/a-/AOh14GhEuXdT7eQweUmRPW8_laJuPggSK6hfvpl5a6WBaA=s64",
      "userId": "15047218817161520419"
     },
     "user_tz": -240
    },
    "id": "nHZ-LKv_ZRb3",
    "outputId": "6a90f176-803d-4b03-e65f-c05bda6f519c"
   },
   "outputs": [
    {
     "name": "stdout",
     "output_type": "stream",
     "text": [
      "Epoch 1/100\n",
      "250/250 [==============================] - 0s 449us/step - loss: 0.6299 - accuracy: 0.6306\n",
      "Epoch 2/100\n",
      "250/250 [==============================] - 0s 434us/step - loss: 0.4728 - accuracy: 0.8003\n",
      "Epoch 3/100\n",
      "250/250 [==============================] - 0s 434us/step - loss: 0.4446 - accuracy: 0.8072\n",
      "Epoch 4/100\n",
      "250/250 [==============================] - 0s 438us/step - loss: 0.4269 - accuracy: 0.8199\n",
      "Epoch 5/100\n",
      "250/250 [==============================] - 0s 426us/step - loss: 0.4234 - accuracy: 0.8133\n",
      "Epoch 6/100\n",
      "250/250 [==============================] - 0s 432us/step - loss: 0.4151 - accuracy: 0.8217\n",
      "Epoch 7/100\n",
      "250/250 [==============================] - 0s 428us/step - loss: 0.4138 - accuracy: 0.8191\n",
      "Epoch 8/100\n",
      "250/250 [==============================] - 0s 425us/step - loss: 0.4008 - accuracy: 0.8310\n",
      "Epoch 9/100\n",
      "250/250 [==============================] - 0s 430us/step - loss: 0.3980 - accuracy: 0.8309\n",
      "Epoch 10/100\n",
      "250/250 [==============================] - 0s 421us/step - loss: 0.3858 - accuracy: 0.8420\n",
      "Epoch 11/100\n",
      "250/250 [==============================] - 0s 427us/step - loss: 0.3811 - accuracy: 0.8442\n",
      "Epoch 12/100\n",
      "250/250 [==============================] - 0s 423us/step - loss: 0.3716 - accuracy: 0.8480\n",
      "Epoch 13/100\n",
      "250/250 [==============================] - 0s 424us/step - loss: 0.3573 - accuracy: 0.8595\n",
      "Epoch 14/100\n",
      "250/250 [==============================] - 0s 423us/step - loss: 0.3669 - accuracy: 0.8521\n",
      "Epoch 15/100\n",
      "250/250 [==============================] - 0s 483us/step - loss: 0.3471 - accuracy: 0.8586\n",
      "Epoch 16/100\n",
      "250/250 [==============================] - 0s 417us/step - loss: 0.3570 - accuracy: 0.8523\n",
      "Epoch 17/100\n",
      "250/250 [==============================] - 0s 418us/step - loss: 0.3389 - accuracy: 0.8601\n",
      "Epoch 18/100\n",
      "250/250 [==============================] - 0s 412us/step - loss: 0.3399 - accuracy: 0.8625\n",
      "Epoch 19/100\n",
      "250/250 [==============================] - 0s 416us/step - loss: 0.3476 - accuracy: 0.8558\n",
      "Epoch 20/100\n",
      "250/250 [==============================] - 0s 435us/step - loss: 0.3430 - accuracy: 0.8615\n",
      "Epoch 21/100\n",
      "250/250 [==============================] - 0s 435us/step - loss: 0.3426 - accuracy: 0.8579\n",
      "Epoch 22/100\n",
      "250/250 [==============================] - 0s 428us/step - loss: 0.3433 - accuracy: 0.8578\n",
      "Epoch 23/100\n",
      "250/250 [==============================] - 0s 421us/step - loss: 0.3468 - accuracy: 0.8600\n",
      "Epoch 24/100\n",
      "250/250 [==============================] - 0s 428us/step - loss: 0.3403 - accuracy: 0.8616\n",
      "Epoch 25/100\n",
      "250/250 [==============================] - 0s 435us/step - loss: 0.3304 - accuracy: 0.8646\n",
      "Epoch 26/100\n",
      "250/250 [==============================] - 0s 434us/step - loss: 0.3351 - accuracy: 0.8653\n",
      "Epoch 27/100\n",
      "250/250 [==============================] - 0s 425us/step - loss: 0.3370 - accuracy: 0.8623\n",
      "Epoch 28/100\n",
      "250/250 [==============================] - 0s 418us/step - loss: 0.3453 - accuracy: 0.8606\n",
      "Epoch 29/100\n",
      "250/250 [==============================] - 0s 427us/step - loss: 0.3320 - accuracy: 0.8670\n",
      "Epoch 30/100\n",
      "250/250 [==============================] - 0s 427us/step - loss: 0.3500 - accuracy: 0.8602\n",
      "Epoch 31/100\n",
      "250/250 [==============================] - 0s 417us/step - loss: 0.3550 - accuracy: 0.8593\n",
      "Epoch 32/100\n",
      "250/250 [==============================] - 0s 417us/step - loss: 0.3359 - accuracy: 0.8635\n",
      "Epoch 33/100\n",
      "250/250 [==============================] - 0s 421us/step - loss: 0.3344 - accuracy: 0.8648\n",
      "Epoch 34/100\n",
      "250/250 [==============================] - 0s 418us/step - loss: 0.3420 - accuracy: 0.8604\n",
      "Epoch 35/100\n",
      "250/250 [==============================] - 0s 422us/step - loss: 0.3442 - accuracy: 0.8591\n",
      "Epoch 36/100\n",
      "250/250 [==============================] - 0s 434us/step - loss: 0.3352 - accuracy: 0.8639\n",
      "Epoch 37/100\n",
      "250/250 [==============================] - 0s 428us/step - loss: 0.3293 - accuracy: 0.8697\n",
      "Epoch 38/100\n",
      "250/250 [==============================] - 0s 418us/step - loss: 0.3314 - accuracy: 0.8678\n",
      "Epoch 39/100\n",
      "250/250 [==============================] - 0s 413us/step - loss: 0.3397 - accuracy: 0.8626\n",
      "Epoch 40/100\n",
      "250/250 [==============================] - 0s 420us/step - loss: 0.3384 - accuracy: 0.8627\n",
      "Epoch 41/100\n",
      "250/250 [==============================] - 0s 426us/step - loss: 0.3216 - accuracy: 0.8744\n",
      "Epoch 42/100\n",
      "250/250 [==============================] - 0s 428us/step - loss: 0.3336 - accuracy: 0.8627\n",
      "Epoch 43/100\n",
      "250/250 [==============================] - 0s 429us/step - loss: 0.3328 - accuracy: 0.8680\n",
      "Epoch 44/100\n",
      "250/250 [==============================] - 0s 434us/step - loss: 0.3383 - accuracy: 0.8646\n",
      "Epoch 45/100\n",
      "250/250 [==============================] - 0s 424us/step - loss: 0.3327 - accuracy: 0.8650\n",
      "Epoch 46/100\n",
      "250/250 [==============================] - 0s 417us/step - loss: 0.3342 - accuracy: 0.8647\n",
      "Epoch 47/100\n",
      "250/250 [==============================] - 0s 419us/step - loss: 0.3382 - accuracy: 0.8639\n",
      "Epoch 48/100\n",
      "250/250 [==============================] - 0s 416us/step - loss: 0.3430 - accuracy: 0.8547\n",
      "Epoch 49/100\n",
      "250/250 [==============================] - 0s 419us/step - loss: 0.3396 - accuracy: 0.8611\n",
      "Epoch 50/100\n",
      "250/250 [==============================] - 0s 417us/step - loss: 0.3286 - accuracy: 0.8707\n",
      "Epoch 51/100\n",
      "250/250 [==============================] - 0s 423us/step - loss: 0.3340 - accuracy: 0.8635\n",
      "Epoch 52/100\n",
      "250/250 [==============================] - 0s 421us/step - loss: 0.3385 - accuracy: 0.8645\n",
      "Epoch 53/100\n",
      "250/250 [==============================] - 0s 415us/step - loss: 0.3342 - accuracy: 0.8622\n",
      "Epoch 54/100\n",
      "250/250 [==============================] - 0s 420us/step - loss: 0.3301 - accuracy: 0.8668\n",
      "Epoch 55/100\n",
      "250/250 [==============================] - 0s 419us/step - loss: 0.3346 - accuracy: 0.8653\n",
      "Epoch 56/100\n",
      "250/250 [==============================] - 0s 419us/step - loss: 0.3332 - accuracy: 0.8699\n",
      "Epoch 57/100\n",
      "250/250 [==============================] - 0s 416us/step - loss: 0.3341 - accuracy: 0.8686\n",
      "Epoch 58/100\n",
      "250/250 [==============================] - 0s 418us/step - loss: 0.3353 - accuracy: 0.8606\n",
      "Epoch 59/100\n",
      "250/250 [==============================] - 0s 424us/step - loss: 0.3287 - accuracy: 0.8691\n",
      "Epoch 60/100\n",
      "250/250 [==============================] - 0s 417us/step - loss: 0.3420 - accuracy: 0.8622\n",
      "Epoch 61/100\n",
      "250/250 [==============================] - 0s 417us/step - loss: 0.3416 - accuracy: 0.8612\n",
      "Epoch 62/100\n",
      "250/250 [==============================] - 0s 431us/step - loss: 0.3418 - accuracy: 0.8628\n",
      "Epoch 63/100\n",
      "250/250 [==============================] - 0s 427us/step - loss: 0.3331 - accuracy: 0.8622\n",
      "Epoch 64/100\n",
      "250/250 [==============================] - 0s 419us/step - loss: 0.3241 - accuracy: 0.8667\n",
      "Epoch 65/100\n",
      "250/250 [==============================] - 0s 423us/step - loss: 0.3234 - accuracy: 0.8665\n",
      "Epoch 66/100\n",
      "250/250 [==============================] - 0s 425us/step - loss: 0.3291 - accuracy: 0.8691\n",
      "Epoch 67/100\n",
      "250/250 [==============================] - 0s 413us/step - loss: 0.3421 - accuracy: 0.8616\n",
      "Epoch 68/100\n",
      "250/250 [==============================] - 0s 409us/step - loss: 0.3357 - accuracy: 0.8674\n",
      "Epoch 69/100\n",
      "250/250 [==============================] - 0s 418us/step - loss: 0.3373 - accuracy: 0.8607\n",
      "Epoch 70/100\n",
      "250/250 [==============================] - 0s 420us/step - loss: 0.3248 - accuracy: 0.8686\n",
      "Epoch 71/100\n",
      "250/250 [==============================] - 0s 425us/step - loss: 0.3342 - accuracy: 0.8660\n",
      "Epoch 72/100\n",
      "250/250 [==============================] - 0s 413us/step - loss: 0.3314 - accuracy: 0.8667\n",
      "Epoch 73/100\n",
      "250/250 [==============================] - 0s 417us/step - loss: 0.3356 - accuracy: 0.8663\n",
      "Epoch 74/100\n",
      "250/250 [==============================] - 0s 430us/step - loss: 0.3312 - accuracy: 0.8648\n",
      "Epoch 75/100\n",
      "250/250 [==============================] - 0s 420us/step - loss: 0.3336 - accuracy: 0.8656\n",
      "Epoch 76/100\n",
      "250/250 [==============================] - 0s 429us/step - loss: 0.3213 - accuracy: 0.8692\n",
      "Epoch 77/100\n",
      "250/250 [==============================] - 0s 422us/step - loss: 0.3259 - accuracy: 0.8715\n",
      "Epoch 78/100\n",
      "250/250 [==============================] - 0s 426us/step - loss: 0.3421 - accuracy: 0.8619\n",
      "Epoch 79/100\n"
     ]
    },
    {
     "name": "stdout",
     "output_type": "stream",
     "text": [
      "250/250 [==============================] - 0s 422us/step - loss: 0.3326 - accuracy: 0.8677\n",
      "Epoch 80/100\n",
      "250/250 [==============================] - 0s 422us/step - loss: 0.3268 - accuracy: 0.8704\n",
      "Epoch 81/100\n",
      "250/250 [==============================] - 0s 420us/step - loss: 0.3368 - accuracy: 0.8608\n",
      "Epoch 82/100\n",
      "250/250 [==============================] - 0s 423us/step - loss: 0.3288 - accuracy: 0.8668\n",
      "Epoch 83/100\n",
      "250/250 [==============================] - 0s 445us/step - loss: 0.3307 - accuracy: 0.8664\n",
      "Epoch 84/100\n",
      "250/250 [==============================] - 0s 422us/step - loss: 0.3283 - accuracy: 0.8692\n",
      "Epoch 85/100\n",
      "250/250 [==============================] - 0s 416us/step - loss: 0.3302 - accuracy: 0.8667\n",
      "Epoch 86/100\n",
      "250/250 [==============================] - 0s 415us/step - loss: 0.3329 - accuracy: 0.8670\n",
      "Epoch 87/100\n",
      "250/250 [==============================] - 0s 416us/step - loss: 0.3221 - accuracy: 0.8683\n",
      "Epoch 88/100\n",
      "250/250 [==============================] - 0s 417us/step - loss: 0.3299 - accuracy: 0.8678\n",
      "Epoch 89/100\n",
      "250/250 [==============================] - 0s 426us/step - loss: 0.3259 - accuracy: 0.8707\n",
      "Epoch 90/100\n",
      "250/250 [==============================] - 0s 421us/step - loss: 0.3287 - accuracy: 0.8666\n",
      "Epoch 91/100\n",
      "250/250 [==============================] - 0s 418us/step - loss: 0.3163 - accuracy: 0.8755\n",
      "Epoch 92/100\n",
      "250/250 [==============================] - 0s 419us/step - loss: 0.3290 - accuracy: 0.8652\n",
      "Epoch 93/100\n",
      "250/250 [==============================] - 0s 409us/step - loss: 0.3298 - accuracy: 0.8657\n",
      "Epoch 94/100\n",
      "250/250 [==============================] - 0s 421us/step - loss: 0.3226 - accuracy: 0.8719\n",
      "Epoch 95/100\n",
      "250/250 [==============================] - 0s 414us/step - loss: 0.3292 - accuracy: 0.8680\n",
      "Epoch 96/100\n",
      "250/250 [==============================] - 0s 410us/step - loss: 0.3347 - accuracy: 0.8684\n",
      "Epoch 97/100\n",
      "250/250 [==============================] - 0s 419us/step - loss: 0.3328 - accuracy: 0.8669\n",
      "Epoch 98/100\n",
      "250/250 [==============================] - 0s 414us/step - loss: 0.3362 - accuracy: 0.8648\n",
      "Epoch 99/100\n",
      "250/250 [==============================] - 0s 420us/step - loss: 0.3384 - accuracy: 0.8629\n",
      "Epoch 100/100\n",
      "250/250 [==============================] - 0s 422us/step - loss: 0.3395 - accuracy: 0.8655\n"
     ]
    },
    {
     "data": {
      "text/plain": [
       "<tensorflow.python.keras.callbacks.History at 0x2b1aab748e0>"
      ]
     },
     "execution_count": 19,
     "metadata": {},
     "output_type": "execute_result"
    }
   ],
   "source": [
    "ann.fit(X_train, y_train, batch_size = 32, epochs = 100)"
   ]
  },
  {
   "cell_type": "markdown",
   "metadata": {
    "colab_type": "text",
    "id": "tJj5k2MxZga3"
   },
   "source": [
    "## Part 4 - Making the predictions and evaluating the model"
   ]
  },
  {
   "cell_type": "markdown",
   "metadata": {
    "colab_type": "text",
    "id": "u7yx47jPZt11"
   },
   "source": [
    "### Predicting the Test set results"
   ]
  },
  {
   "cell_type": "code",
   "execution_count": 40,
   "metadata": {
    "colab": {
     "base_uri": "https://localhost:8080/",
     "height": 134
    },
    "colab_type": "code",
    "executionInfo": {
     "elapsed": 31748,
     "status": "ok",
     "timestamp": 1586428405581,
     "user": {
      "displayName": "Hadelin de Ponteves",
      "photoUrl": "https://lh3.googleusercontent.com/a-/AOh14GhEuXdT7eQweUmRPW8_laJuPggSK6hfvpl5a6WBaA=s64",
      "userId": "15047218817161520419"
     },
     "user_tz": -240
    },
    "id": "nIyEeQdRZwgs",
    "outputId": "a0f4d9ad-9a29-41dc-b101-9e7216d74dc0"
   },
   "outputs": [
    {
     "name": "stdout",
     "output_type": "stream",
     "text": [
      "[[0 0]\n",
      " [0 1]\n",
      " [0 0]\n",
      " ...\n",
      " [0 0]\n",
      " [0 0]\n",
      " [0 0]]\n"
     ]
    }
   ],
   "source": [
    "y_pred = ann.predict(X_test)\n",
    "y_pred = (y_pred > 0.5)\n",
    "print(np.concatenate((y_pred.reshape(len(y_pred),1), y_test.reshape(len(y_test),1)),1))"
   ]
  },
  {
   "cell_type": "markdown",
   "metadata": {
    "colab_type": "text",
    "id": "o0oyfLWoaEGw"
   },
   "source": [
    "### Making the Confusion Matrix"
   ]
  },
  {
   "cell_type": "code",
   "execution_count": 42,
   "metadata": {
    "colab": {
     "base_uri": "https://localhost:8080/",
     "height": 50
    },
    "colab_type": "code",
    "executionInfo": {
     "elapsed": 31746,
     "status": "ok",
     "timestamp": 1586428405581,
     "user": {
      "displayName": "Hadelin de Ponteves",
      "photoUrl": "https://lh3.googleusercontent.com/a-/AOh14GhEuXdT7eQweUmRPW8_laJuPggSK6hfvpl5a6WBaA=s64",
      "userId": "15047218817161520419"
     },
     "user_tz": -240
    },
    "id": "ci6K_r6LaF6P",
    "outputId": "09bd315f-7091-457f-b222-ce3998de57a5"
   },
   "outputs": [
    {
     "name": "stdout",
     "output_type": "stream",
     "text": [
      "0.8615\n",
      "[[1531   64]\n",
      " [ 213  192]]\n"
     ]
    }
   ],
   "source": [
    "from sklearn.metrics import classification_report,confusion_matrix\n",
    "from sklearn.metrics import accuracy_score\n",
    "cm = confusion_matrix(y_test, y_pred)\n",
    "print(accuracy_score(y_test,y_pred))\n",
    "print(cm)"
   ]
  },
  {
   "cell_type": "code",
   "execution_count": null,
   "metadata": {},
   "outputs": [],
   "source": []
  },
  {
   "cell_type": "code",
   "execution_count": null,
   "metadata": {},
   "outputs": [],
   "source": []
  },
  {
   "cell_type": "code",
   "execution_count": 33,
   "metadata": {},
   "outputs": [
    {
     "data": {
      "text/plain": [
       "LogisticRegression(C=0.01)"
      ]
     },
     "execution_count": 33,
     "metadata": {},
     "output_type": "execute_result"
    }
   ],
   "source": [
    "from sklearn.linear_model import LogisticRegression\n",
    "LR_model = LogisticRegression(C=0.01).fit(X_train,y_train)\n",
    "LR_model"
   ]
  },
  {
   "cell_type": "code",
   "execution_count": 34,
   "metadata": {},
   "outputs": [],
   "source": [
    "yhat = LR_model.predict(X_test)"
   ]
  },
  {
   "cell_type": "code",
   "execution_count": 35,
   "metadata": {},
   "outputs": [
    {
     "name": "stdout",
     "output_type": "stream",
     "text": [
      "[[1543   52]\n",
      " [ 327   78]]\n",
      "              precision    recall  f1-score   support\n",
      "\n",
      "           0       0.83      0.97      0.89      1595\n",
      "           1       0.60      0.19      0.29       405\n",
      "\n",
      "    accuracy                           0.81      2000\n",
      "   macro avg       0.71      0.58      0.59      2000\n",
      "weighted avg       0.78      0.81      0.77      2000\n",
      "\n",
      "0.8105\n"
     ]
    }
   ],
   "source": [
    "print(confusion_matrix(y_test,yhat))\n",
    "print(classification_report(y_test,yhat))\n",
    "print(accuracy_score(y_test,yhat))"
   ]
  },
  {
   "cell_type": "code",
   "execution_count": null,
   "metadata": {},
   "outputs": [],
   "source": []
  },
  {
   "cell_type": "code",
   "execution_count": 36,
   "metadata": {},
   "outputs": [
    {
     "data": {
      "text/plain": [
       "DecisionTreeClassifier(criterion='entropy', max_depth=4)"
      ]
     },
     "execution_count": 36,
     "metadata": {},
     "output_type": "execute_result"
    }
   ],
   "source": [
    "from sklearn.tree import DecisionTreeClassifier\n",
    "DT_model = DecisionTreeClassifier(criterion=\"entropy\", max_depth = 4)\n",
    "DT_model.fit(X_train,y_train)\n",
    "DT_model"
   ]
  },
  {
   "cell_type": "code",
   "execution_count": 38,
   "metadata": {},
   "outputs": [
    {
     "name": "stdout",
     "output_type": "stream",
     "text": [
      "[[1519   76]\n",
      " [ 214  191]]\n",
      "              precision    recall  f1-score   support\n",
      "\n",
      "           0       0.88      0.95      0.91      1595\n",
      "           1       0.72      0.47      0.57       405\n",
      "\n",
      "    accuracy                           0.85      2000\n",
      "   macro avg       0.80      0.71      0.74      2000\n",
      "weighted avg       0.84      0.85      0.84      2000\n",
      "\n",
      "0.855\n"
     ]
    }
   ],
   "source": [
    "yhat = DT_model.predict(X_test)\n",
    "print(confusion_matrix(y_test,yhat))\n",
    "print(classification_report(y_test,yhat))\n",
    "print(accuracy_score(y_test,yhat))"
   ]
  },
  {
   "cell_type": "code",
   "execution_count": 43,
   "metadata": {},
   "outputs": [],
   "source": [
    "from numpy import loadtxt\n",
    "from xgboost import XGBClassifier"
   ]
  },
  {
   "cell_type": "code",
   "execution_count": 46,
   "metadata": {},
   "outputs": [],
   "source": [
    "model = XGBClassifier()\n",
    "model.fit(X_train, y_train)\n",
    "yhat = model.predict(X_test)"
   ]
  },
  {
   "cell_type": "code",
   "execution_count": 45,
   "metadata": {},
   "outputs": [],
   "source": [
    "from sklearn.metrics import accuracy_score, precision_score, recall_score,f1_score\n",
    "def metrics(true, preds): \n",
    "    \"\"\"\n",
    "    Function to calculate evaluation metrics\n",
    "    parameters: true values, predictions\n",
    "    prints accuracy, recall, precision and f1 scores\n",
    "    \"\"\"\n",
    "    accuracy = accuracy_score(true, preds)\n",
    "    recall = recall_score(true, preds, average = 'weighted')\n",
    "    precision = precision_score(true, preds, average = 'weighted')\n",
    "    f1score = f1_score(true, preds, average = 'weighted')\n",
    "    print ('accuracy: {}, recall: {}, precision: {}, f1-score: {}'.format(accuracy, recall, precision, f1score))"
   ]
  },
  {
   "cell_type": "code",
   "execution_count": 47,
   "metadata": {},
   "outputs": [
    {
     "name": "stdout",
     "output_type": "stream",
     "text": [
      "accuracy: 0.853, recall: 0.853, precision: 0.8430310764192854, f1-score: 0.845074120396949\n"
     ]
    }
   ],
   "source": [
    "metrics(y_test,yhat)"
   ]
  }
 ],
 "metadata": {
  "colab": {
   "authorship_tag": "ABX9TyMwbl0jJoa05wuIU59y39H3",
   "collapsed_sections": [],
   "name": "Artificial Neural Network",
   "provenance": []
  },
  "kernelspec": {
   "display_name": "Python 3",
   "language": "python",
   "name": "python3"
  },
  "language_info": {
   "codemirror_mode": {
    "name": "ipython",
    "version": 3
   },
   "file_extension": ".py",
   "mimetype": "text/x-python",
   "name": "python",
   "nbconvert_exporter": "python",
   "pygments_lexer": "ipython3",
   "version": "3.8.3"
  }
 },
 "nbformat": 4,
 "nbformat_minor": 1
}
