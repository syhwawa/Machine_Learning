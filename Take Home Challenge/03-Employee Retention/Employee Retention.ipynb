{
 "cells": [
  {
   "cell_type": "markdown",
   "metadata": {},
   "source": [
    "# Employee Retention"
   ]
  },
  {
   "cell_type": "markdown",
   "metadata": {},
   "source": [
    "In this challenge, you have a data set with info about the employees and have to predict when\n",
    "employees are going to quit by understanding the main drivers of employee churn"
   ]
  },
  {
   "cell_type": "markdown",
   "metadata": {},
   "source": [
    "As said above, the goal is to predict employee retention and understand its main drivers.\n",
    "Specifically, you should:\n",
    "- Assume, for each company, that the headcount starts from zero on 2011/01/23. Estimate\n",
    "employee headcount, for each company, on each day, from 2011/01/24 to 2015/12/13.\n",
    "That is, if by 2012/03/02 2000 people have joined company 1 and 1000 of them have\n",
    "already quit, then company headcount on 2012/03/02 for company 1 would be 1000.\n",
    "__You should create a table with 3 columns: day, employee_headcount, company_id.__\n",
    "- What are the main factors that drive employee churn? Do they make sense? Explain your\n",
    "findings.\n",
    "- If you could add to this data set just one variable that could help explain employee churn,\n",
    "what would that be?"
   ]
  }
 ],
 "metadata": {
  "kernelspec": {
   "display_name": "Python 3",
   "language": "python",
   "name": "python3"
  },
  "language_info": {
   "codemirror_mode": {
    "name": "ipython",
    "version": 3
   },
   "file_extension": ".py",
   "mimetype": "text/x-python",
   "name": "python",
   "nbconvert_exporter": "python",
   "pygments_lexer": "ipython3",
   "version": "3.7.6"
  }
 },
 "nbformat": 4,
 "nbformat_minor": 4
}
